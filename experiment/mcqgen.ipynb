{
 "cells": [
  {
   "cell_type": "code",
   "execution_count": 1,
   "metadata": {},
   "outputs": [],
   "source": [
    "from langchain.llms import OpenAI\n",
    "from langchain.chat_models import ChatOpenAI\n",
    "from langchain.prompts import PromptTemplate\n",
    "from langchain.chains import LLMChain\n",
    "from langchain.chains import SequentialChain\n",
    "from langchain.callbacks import get_openai_callback\n",
    "import os\n",
    "import json\n",
    "import pandas as pd\n",
    "import traceback\n",
    "from dotenv import load_dotenv\n",
    "import PyPDF2"
   ]
  },
  {
   "cell_type": "code",
   "execution_count": 2,
   "metadata": {},
   "outputs": [
    {
     "data": {
      "text/plain": [
       "True"
      ]
     },
     "execution_count": 2,
     "metadata": {},
     "output_type": "execute_result"
    }
   ],
   "source": [
    "load_dotenv()"
   ]
  },
  {
   "cell_type": "code",
   "execution_count": 3,
   "metadata": {},
   "outputs": [],
   "source": [
    "key = os.getenv(\"OPENAI_KEY\")"
   ]
  },
  {
   "cell_type": "code",
   "execution_count": 4,
   "metadata": {},
   "outputs": [
    {
     "name": "stderr",
     "output_type": "stream",
     "text": [
      "c:\\Users\\alams\\AppData\\Local\\Programs\\Python\\Python312\\Lib\\site-packages\\langchain_core\\_api\\deprecation.py:117: LangChainDeprecationWarning: The class `langchain_community.chat_models.openai.ChatOpenAI` was deprecated in langchain-community 0.0.10 and will be removed in 0.2.0. An updated version of the class exists in the langchain-openai package and should be used instead. To use it run `pip install -U langchain-openai` and import as `from langchain_openai import ChatOpenAI`.\n",
      "  warn_deprecated(\n"
     ]
    }
   ],
   "source": [
    "llm = ChatOpenAI(openai_api_key=key, model=\"gpt-3.5-turbo\", temperature=0.7)"
   ]
  },
  {
   "cell_type": "code",
   "execution_count": 5,
   "metadata": {},
   "outputs": [
    {
     "name": "stderr",
     "output_type": "stream",
     "text": [
      "<>:1: SyntaxWarning: invalid escape sequence '\\R'\n",
      "<>:1: SyntaxWarning: invalid escape sequence '\\R'\n",
      "C:\\Users\\alams\\AppData\\Local\\Temp\\ipykernel_24396\\1786520669.py:1: SyntaxWarning: invalid escape sequence '\\R'\n",
      "  with open(\"..\\Response.json\",\"r\") as f:\n"
     ]
    }
   ],
   "source": [
    "with open(\"..\\Response.json\",\"r\") as f:\n",
    "    RESPONSE_JSON = json.load(f)"
   ]
  },
  {
   "cell_type": "code",
   "execution_count": 6,
   "metadata": {},
   "outputs": [
    {
     "name": "stdout",
     "output_type": "stream",
     "text": [
      "{'1': {'no': '1', 'mcq': 'multiple choice question', 'options': {'a': 'choice here', 'b': 'choice here', 'c': 'choice here', 'd': 'choice here'}, 'correct': 'correct answer'}, '2': {'no': '2', 'mcq': 'multiple choice question', 'options': {'a': 'choice here', 'b': 'choice here', 'c': 'choice here', 'd': 'choice here'}, 'correct': 'correct answer'}, '3': {'no': '3', 'mcq': 'multiple choice question', 'options': {'a': 'choice here', 'b': 'choice here', 'c': 'choice here', 'd': 'choice here'}, 'correct': 'correct answer'}}\n"
     ]
    }
   ],
   "source": [
    "print(RESPONSE_JSON)"
   ]
  },
  {
   "cell_type": "code",
   "execution_count": 7,
   "metadata": {},
   "outputs": [],
   "source": [
    "TEMPLATE = \"\"\"\n",
    "Text: {text}\n",
    "You are an expert MCQ maker. Given the above text. It is your job to \\\n",
    "create a quize of {number} multiple choice question for subject in {tone} tone.\n",
    "Make sure the question are not repeated and check all the question confirming the text as well.\n",
    "Make sure to format the reposne like RESPONSE_JSON below and use it as a guide. \\\n",
    "Ensure to make {number} MCQs\n",
    "### RESPONSE_JSON\n",
    "{RESPONSE_JSON}\n",
    "\"\"\""
   ]
  },
  {
   "cell_type": "code",
   "execution_count": 8,
   "metadata": {},
   "outputs": [],
   "source": [
    "quiz_generation_prompt = PromptTemplate(\n",
    "    input_variables=[\"text\", \"number\", \"subject\", \"tone\", \"RESPONSE_JSON\"],\n",
    "    template=TEMPLATE\n",
    "    )"
   ]
  },
  {
   "cell_type": "code",
   "execution_count": 9,
   "metadata": {},
   "outputs": [],
   "source": [
    "quiz_chain = LLMChain(llm=llm, prompt=quiz_generation_prompt,output_key=\"quiz\", verbose=True)"
   ]
  },
  {
   "cell_type": "code",
   "execution_count": 10,
   "metadata": {},
   "outputs": [],
   "source": [
    "TEMPLATE2=\"\"\"\n",
    "You are an expert english grammarian and writer. Given a Multiple Choice Quiz for {subject} students.\\\n",
    "You need to evaluate the complexity of the question and give a complete analysis of the quiz. Only use at max 50 words for complexity analysis. \n",
    "if the quiz is not at per with the cognitive and analytical abilities of the students,\\\n",
    "update the quiz questions which needs to be changed and change the tone such that it perfectly fits the student abilities\n",
    "Quiz_MCQs:\n",
    "{quiz}\n",
    "\n",
    "Check from an expert English Writer of the above quiz:\n",
    "\"\"\""
   ]
  },
  {
   "cell_type": "code",
   "execution_count": 11,
   "metadata": {},
   "outputs": [],
   "source": [
    "quiz_evaluation_prompt=PromptTemplate(input_variables=[\"subject\", \"quiz\"], template=TEMPLATE2)"
   ]
  },
  {
   "cell_type": "code",
   "execution_count": 14,
   "metadata": {},
   "outputs": [],
   "source": [
    "review_chain=LLMChain(llm=llm, prompt=quiz_evaluation_prompt, output_key=\"review\", verbose=True)"
   ]
  },
  {
   "cell_type": "code",
   "execution_count": 15,
   "metadata": {},
   "outputs": [],
   "source": [
    "generate_evaluate_chain = SequentialChain(chains=[quiz_chain,review_chain], input_variables=[\"text\",\"number\",\"subject\",\"tone\",\"RESPONSE_JSON\"], output_variables=[\"quiz\",\"review\"], verbose=True)"
   ]
  },
  {
   "cell_type": "code",
   "execution_count": 17,
   "metadata": {},
   "outputs": [
    {
     "name": "stderr",
     "output_type": "stream",
     "text": [
      "<>:1: SyntaxWarning: invalid escape sequence '\\s'\n",
      "<>:1: SyntaxWarning: invalid escape sequence '\\s'\n",
      "C:\\Users\\alams\\AppData\\Local\\Temp\\ipykernel_24396\\513000508.py:1: SyntaxWarning: invalid escape sequence '\\s'\n",
      "  PATH = \"..\\src\\data.txt\"\n"
     ]
    }
   ],
   "source": [
    "PATH = \"..\\src\\data.txt\"\n"
   ]
  },
  {
   "cell_type": "code",
   "execution_count": 18,
   "metadata": {},
   "outputs": [
    {
     "name": "stdout",
     "output_type": "stream",
     "text": [
      "..\\src\\data.txt\n"
     ]
    }
   ],
   "source": [
    "print(PATH)"
   ]
  },
  {
   "cell_type": "code",
   "execution_count": 21,
   "metadata": {},
   "outputs": [],
   "source": [
    "with open(PATH,\"r\") as file:\n",
    "    TEXT = file.read()"
   ]
  },
  {
   "cell_type": "code",
   "execution_count": 27,
   "metadata": {},
   "outputs": [],
   "source": [
    "TEXT\n",
    "NUMBER = 5\n",
    "SUBJECT = \"AI\"\n",
    "TONE =\"Simple\"\n",
    "RESPONSE_JSON = RESPONSE_JSON\n"
   ]
  },
  {
   "cell_type": "code",
   "execution_count": 30,
   "metadata": {},
   "outputs": [
    {
     "data": {
      "text/plain": [
       "'{\"1\": {\"no\": \"1\", \"mcq\": \"multiple choice question\", \"options\": {\"a\": \"choice here\", \"b\": \"choice here\", \"c\": \"choice here\", \"d\": \"choice here\"}, \"correct\": \"correct answer\"}, \"2\": {\"no\": \"2\", \"mcq\": \"multiple choice question\", \"options\": {\"a\": \"choice here\", \"b\": \"choice here\", \"c\": \"choice here\", \"d\": \"choice here\"}, \"correct\": \"correct answer\"}, \"3\": {\"no\": \"3\", \"mcq\": \"multiple choice question\", \"options\": {\"a\": \"choice here\", \"b\": \"choice here\", \"c\": \"choice here\", \"d\": \"choice here\"}, \"correct\": \"correct answer\"}}'"
      ]
     },
     "execution_count": 30,
     "metadata": {},
     "output_type": "execute_result"
    }
   ],
   "source": [
    "import json\n",
    "json.dumps(RESPONSE_JSON)"
   ]
  },
  {
   "cell_type": "code",
   "execution_count": 38,
   "metadata": {},
   "outputs": [
    {
     "name": "stdout",
     "output_type": "stream",
     "text": [
      "\n",
      "\n",
      "\u001b[1m> Entering new SequentialChain chain...\u001b[0m\n",
      "\n",
      "\n",
      "\u001b[1m> Entering new LLMChain chain...\u001b[0m\n",
      "Prompt after formatting:\n",
      "\u001b[32;1m\u001b[1;3m\n",
      "Text: Recent progress in generative models have resulted in models that can produce realistic text, images and video that can potentially revolutionize the way humans work, create content and interact with machines. The workshop on Generative AI at AIMLSystems will focus on the entire life-cycle of building and deploying such Generative AI systems, including data collection and processing, developing systems and requisite infrastructure, applications it enables, and the ethics associated with such technology covering concerns related to fairness, transparency and accountability. We invite original, unpublished work on Artificial Intelligence with a focus on generative AI and their use cases. Specifically, the topics of interest include but are not limited to:\n",
      "\n",
      "Systems, architecture and infrastructure for Generative AI\n",
      "Machine learning and Modeling using LLMs and Diffusion models\n",
      "Large Language Models and its applications\n",
      "Multi-modal Generative AI and its applications\n",
      "Gen AI based Plugins and agents\n",
      "Deployment of Generative AI solutions\n",
      "Evaluation of Language and Diffusion based models\n",
      "Responsible use of Gen AI\n",
      "You are an expert MCQ maker. Given the above text. It is your job to create a quize of 5 multiple choice question for subject in Simple tone.\n",
      "Make sure the question are not repeated and check all the question confirming the text as well.\n",
      "Make sure to format the reposne like RESPONSE_JSON below and use it as a guide. Ensure to make 5 MCQs\n",
      "### RESPONSE_JSON\n",
      "{\"1\": {\"no\": \"1\", \"mcq\": \"multiple choice question\", \"options\": {\"a\": \"choice here\", \"b\": \"choice here\", \"c\": \"choice here\", \"d\": \"choice here\"}, \"correct\": \"correct answer\"}, \"2\": {\"no\": \"2\", \"mcq\": \"multiple choice question\", \"options\": {\"a\": \"choice here\", \"b\": \"choice here\", \"c\": \"choice here\", \"d\": \"choice here\"}, \"correct\": \"correct answer\"}, \"3\": {\"no\": \"3\", \"mcq\": \"multiple choice question\", \"options\": {\"a\": \"choice here\", \"b\": \"choice here\", \"c\": \"choice here\", \"d\": \"choice here\"}, \"correct\": \"correct answer\"}}\n",
      "\u001b[0m\n",
      "\n",
      "\u001b[1m> Finished chain.\u001b[0m\n",
      "\n",
      "\n",
      "\u001b[1m> Entering new LLMChain chain...\u001b[0m\n",
      "Prompt after formatting:\n",
      "\u001b[32;1m\u001b[1;3m\n",
      "You are an expert english grammarian and writer. Given a Multiple Choice Quiz for AI students.You need to evaluate the complexity of the question and give a complete analysis of the quiz. Only use at max 50 words for complexity analysis. \n",
      "if the quiz is not at per with the cognitive and analytical abilities of the students,update the quiz questions which needs to be changed and change the tone such that it perfectly fits the student abilities\n",
      "Quiz_MCQs:\n",
      "{\n",
      "\"1\": {\n",
      "\"no\": \"1\",\n",
      "\"mcq\": \"What is the focus of the workshop on Generative AI at AIMLSystems?\",\n",
      "\"options\": {\n",
      "\"a\": \"Building robots\",\n",
      "\"b\": \"Developing self-driving cars\",\n",
      "\"c\": \"Building and deploying Generative AI systems\",\n",
      "\"d\": \"Creating virtual reality games\"\n",
      "},\n",
      "\"correct\": \"c\"\n",
      "},\n",
      "\"2\": {\n",
      "\"no\": \"2\",\n",
      "\"mcq\": \"Which topic is NOT mentioned as a focus area for Generative AI in the text?\",\n",
      "\"options\": {\n",
      "\"a\": \"Responsible use of Gen AI\",\n",
      "\"b\": \"Evaluation of Language and Diffusion based models\",\n",
      "\"c\": \"Development of mobile applications\",\n",
      "\"d\": \"Systems, architecture, and infrastructure for Generative AI\"\n",
      "},\n",
      "\"correct\": \"c\"\n",
      "},\n",
      "\"3\": {\n",
      "\"no\": \"3\",\n",
      "\"mcq\": \"What type of models are mentioned in the text for Machine learning and Modeling?\",\n",
      "\"options\": {\n",
      "\"a\": \"CNNs\",\n",
      "\"b\": \"LLMs and Diffusion models\",\n",
      "\"c\": \"Decision trees\",\n",
      "\"d\": \"Support Vector Machines\"\n",
      "},\n",
      "\"correct\": \"b\"\n",
      "},\n",
      "\"4\": {\n",
      "\"no\": \"4\",\n",
      "\"mcq\": \"What is one of the applications of Large Language Models mentioned in the text?\",\n",
      "\"options\": {\n",
      "\"a\": \"Weather forecasting\",\n",
      "\"b\": \"Creating realistic text\",\n",
      "\"c\": \"Detecting fraud in financial transactions\",\n",
      "\"d\": \"Controlling traffic lights\"\n",
      "},\n",
      "\"correct\": \"b\"\n",
      "},\n",
      "\"5\": {\n",
      "\"no\": \"5\",\n",
      "\"mcq\": \"What is one of the ethics-related concerns associated with Generative AI mentioned in the text?\",\n",
      "\"options\": {\n",
      "\"a\": \"Speed of data processing\",\n",
      "\"b\": \"Transparency and accountability\",\n",
      "\"c\": \"Efficiency of machine learning algorithms\",\n",
      "\"d\": \"Software development practices\"\n",
      "},\n",
      "\"correct\": \"b\"\n",
      "}\n",
      "}\n",
      "\n",
      "Check from an expert English Writer of the above quiz:\n",
      "\u001b[0m\n",
      "\n",
      "\u001b[1m> Finished chain.\u001b[0m\n",
      "\n",
      "\u001b[1m> Finished chain.\u001b[0m\n"
     ]
    }
   ],
   "source": [
    "with get_openai_callback() as cb:\n",
    "    response = generate_evaluate_chain(\n",
    "        {\n",
    "            \"text\":TEXT,\n",
    "            \"number\":NUMBER,\n",
    "            \"subject\":SUBJECT,\n",
    "            \"tone\":TONE,\n",
    "            \"RESPONSE_JSON\": json.dumps(RESPONSE_JSON)\n",
    "        }\n",
    "\n",
    "    )"
   ]
  },
  {
   "cell_type": "code",
   "execution_count": 37,
   "metadata": {},
   "outputs": [
    {
     "name": "stdout",
     "output_type": "stream",
     "text": [
      "Total Tokens:1421\n",
      "Prompt Tokens:969\n",
      "Completion Tokens:452\n",
      "Total Cost:0.0023575000000000002\n"
     ]
    }
   ],
   "source": [
    "print(f\"Total Tokens:{cb.total_tokens}\")\n",
    "print(f\"Prompt Tokens:{cb.prompt_tokens}\")\n",
    "print(f\"Completion Tokens:{cb.completion_tokens}\")\n",
    "print(f\"Total Cost:{cb.total_cost}\")"
   ]
  },
  {
   "cell_type": "code",
   "execution_count": 39,
   "metadata": {},
   "outputs": [
    {
     "data": {
      "text/plain": [
       "{'text': 'Recent progress in generative models have resulted in models that can produce realistic text, images and video that can potentially revolutionize the way humans work, create content and interact with machines. The workshop on Generative AI at AIMLSystems will focus on the entire life-cycle of building and deploying such Generative AI systems, including data collection and processing, developing systems and requisite infrastructure, applications it enables, and the ethics associated with such technology covering concerns related to fairness, transparency and accountability. We invite original, unpublished work on Artificial Intelligence with a focus on generative AI and their use cases. Specifically, the topics of interest include but are not limited to:\\n\\nSystems, architecture and infrastructure for Generative AI\\nMachine learning and Modeling using LLMs and Diffusion models\\nLarge Language Models and its applications\\nMulti-modal Generative AI and its applications\\nGen AI based Plugins and agents\\nDeployment of Generative AI solutions\\nEvaluation of Language and Diffusion based models\\nResponsible use of Gen AI',\n",
       " 'number': 5,\n",
       " 'subject': 'AI',\n",
       " 'tone': 'Simple',\n",
       " 'RESPONSE_JSON': '{\"1\": {\"no\": \"1\", \"mcq\": \"multiple choice question\", \"options\": {\"a\": \"choice here\", \"b\": \"choice here\", \"c\": \"choice here\", \"d\": \"choice here\"}, \"correct\": \"correct answer\"}, \"2\": {\"no\": \"2\", \"mcq\": \"multiple choice question\", \"options\": {\"a\": \"choice here\", \"b\": \"choice here\", \"c\": \"choice here\", \"d\": \"choice here\"}, \"correct\": \"correct answer\"}, \"3\": {\"no\": \"3\", \"mcq\": \"multiple choice question\", \"options\": {\"a\": \"choice here\", \"b\": \"choice here\", \"c\": \"choice here\", \"d\": \"choice here\"}, \"correct\": \"correct answer\"}}',\n",
       " 'quiz': '{\\n\"1\": {\\n\"no\": \"1\",\\n\"mcq\": \"What is the focus of the workshop on Generative AI at AIMLSystems?\",\\n\"options\": {\\n\"a\": \"Building robots\",\\n\"b\": \"Developing self-driving cars\",\\n\"c\": \"Building and deploying Generative AI systems\",\\n\"d\": \"Creating virtual reality games\"\\n},\\n\"correct\": \"c\"\\n},\\n\"2\": {\\n\"no\": \"2\",\\n\"mcq\": \"Which topic is NOT mentioned as a focus area for Generative AI in the text?\",\\n\"options\": {\\n\"a\": \"Responsible use of Gen AI\",\\n\"b\": \"Evaluation of Language and Diffusion based models\",\\n\"c\": \"Development of mobile applications\",\\n\"d\": \"Systems, architecture, and infrastructure for Generative AI\"\\n},\\n\"correct\": \"c\"\\n},\\n\"3\": {\\n\"no\": \"3\",\\n\"mcq\": \"What type of models are mentioned in the text for Machine learning and Modeling?\",\\n\"options\": {\\n\"a\": \"CNNs\",\\n\"b\": \"LLMs and Diffusion models\",\\n\"c\": \"Decision trees\",\\n\"d\": \"Support Vector Machines\"\\n},\\n\"correct\": \"b\"\\n},\\n\"4\": {\\n\"no\": \"4\",\\n\"mcq\": \"What is one of the applications of Large Language Models mentioned in the text?\",\\n\"options\": {\\n\"a\": \"Weather forecasting\",\\n\"b\": \"Creating realistic text\",\\n\"c\": \"Detecting fraud in financial transactions\",\\n\"d\": \"Controlling traffic lights\"\\n},\\n\"correct\": \"b\"\\n},\\n\"5\": {\\n\"no\": \"5\",\\n\"mcq\": \"What is one of the ethics-related concerns associated with Generative AI mentioned in the text?\",\\n\"options\": {\\n\"a\": \"Speed of data processing\",\\n\"b\": \"Transparency and accountability\",\\n\"c\": \"Efficiency of machine learning algorithms\",\\n\"d\": \"Software development practices\"\\n},\\n\"correct\": \"b\"\\n}\\n}',\n",
       " 'review': 'The complexity of the quiz is appropriate for AI students, testing their understanding of Generative AI concepts. The questions cover a range of topics from focus areas to ethical concerns, requiring knowledge of machine learning models and applications. The tone is suitable for student engagement.'}"
      ]
     },
     "execution_count": 39,
     "metadata": {},
     "output_type": "execute_result"
    }
   ],
   "source": [
    "response"
   ]
  },
  {
   "cell_type": "code",
   "execution_count": 41,
   "metadata": {},
   "outputs": [],
   "source": [
    "quiz= response.get(\"quiz\")"
   ]
  },
  {
   "cell_type": "code",
   "execution_count": 44,
   "metadata": {},
   "outputs": [],
   "source": [
    "quiz = json.loads(quiz)"
   ]
  },
  {
   "cell_type": "code",
   "execution_count": 45,
   "metadata": {},
   "outputs": [],
   "source": [
    "quiz_table_data = []\n",
    "for key, value in quiz.items():\n",
    "    mcq = value['mcq']\n",
    "    options = \" | \".join(\n",
    "        [\n",
    "            f\"{option}:{option_value}\"\n",
    "            for option, option_value in value['options'].items()\n",
    "        ]\n",
    "    )\n",
    "    correct = value['correct']\n",
    "    quiz_table_data.append({\"MCQ\":mcq,\"Choices\":options, \"Correct\":correct})"
   ]
  },
  {
   "cell_type": "code",
   "execution_count": 46,
   "metadata": {},
   "outputs": [
    {
     "data": {
      "text/plain": [
       "[{'MCQ': 'What is the focus of the workshop on Generative AI at AIMLSystems?',\n",
       "  'Choices': 'a:Building robots | b:Developing self-driving cars | c:Building and deploying Generative AI systems | d:Creating virtual reality games',\n",
       "  'Correct': 'c'},\n",
       " {'MCQ': 'Which topic is NOT mentioned as a focus area for Generative AI in the text?',\n",
       "  'Choices': 'a:Responsible use of Gen AI | b:Evaluation of Language and Diffusion based models | c:Development of mobile applications | d:Systems, architecture, and infrastructure for Generative AI',\n",
       "  'Correct': 'c'},\n",
       " {'MCQ': 'What type of models are mentioned in the text for Machine learning and Modeling?',\n",
       "  'Choices': 'a:CNNs | b:LLMs and Diffusion models | c:Decision trees | d:Support Vector Machines',\n",
       "  'Correct': 'b'},\n",
       " {'MCQ': 'What is one of the applications of Large Language Models mentioned in the text?',\n",
       "  'Choices': 'a:Weather forecasting | b:Creating realistic text | c:Detecting fraud in financial transactions | d:Controlling traffic lights',\n",
       "  'Correct': 'b'},\n",
       " {'MCQ': 'What is one of the ethics-related concerns associated with Generative AI mentioned in the text?',\n",
       "  'Choices': 'a:Speed of data processing | b:Transparency and accountability | c:Efficiency of machine learning algorithms | d:Software development practices',\n",
       "  'Correct': 'b'}]"
      ]
     },
     "execution_count": 46,
     "metadata": {},
     "output_type": "execute_result"
    }
   ],
   "source": [
    "quiz_table_data"
   ]
  },
  {
   "cell_type": "code",
   "execution_count": 48,
   "metadata": {},
   "outputs": [],
   "source": [
    "df = pd.DataFrame(quiz_table_data)"
   ]
  },
  {
   "cell_type": "code",
   "execution_count": 49,
   "metadata": {},
   "outputs": [],
   "source": [
    "df.to_csv('genai.csv',index=False)"
   ]
  },
  {
   "cell_type": "code",
   "execution_count": 53,
   "metadata": {},
   "outputs": [],
   "source": [
    "LOG_FILE = \"{datetime.now().strftime('%m_%d_%Y_%H_%M_%S')}.log\""
   ]
  },
  {
   "cell_type": "code",
   "execution_count": 54,
   "metadata": {},
   "outputs": [
    {
     "data": {
      "text/plain": [
       "\"{datetime.now().strftime('%m_%d_%Y_%H_%M_%S')}.log\""
      ]
     },
     "execution_count": 54,
     "metadata": {},
     "output_type": "execute_result"
    }
   ],
   "source": [
    "LOG_FILE"
   ]
  },
  {
   "cell_type": "code",
   "execution_count": 55,
   "metadata": {},
   "outputs": [],
   "source": [
    "from datetime import datetime"
   ]
  },
  {
   "cell_type": "code",
   "execution_count": 56,
   "metadata": {},
   "outputs": [
    {
     "data": {
      "text/plain": [
       "'04_04_2024_00_47_26'"
      ]
     },
     "execution_count": 56,
     "metadata": {},
     "output_type": "execute_result"
    }
   ],
   "source": [
    "datetime.now().strftime('%m_%d_%Y_%H_%M_%S')"
   ]
  },
  {
   "cell_type": "code",
   "execution_count": null,
   "metadata": {},
   "outputs": [],
   "source": []
  }
 ],
 "metadata": {
  "kernelspec": {
   "display_name": "Python 3",
   "language": "python",
   "name": "python3"
  },
  "language_info": {
   "codemirror_mode": {
    "name": "ipython",
    "version": 3
   },
   "file_extension": ".py",
   "mimetype": "text/x-python",
   "name": "python",
   "nbconvert_exporter": "python",
   "pygments_lexer": "ipython3",
   "version": "3.12.2"
  }
 },
 "nbformat": 4,
 "nbformat_minor": 2
}
